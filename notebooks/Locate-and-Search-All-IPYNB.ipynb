{
 "cells": [
  {
   "cell_type": "markdown",
   "id": "8af714dc",
   "metadata": {},
   "source": [
    "# Locate all the *.ipynb files and list them in a file \"ALL-IPYNB.list\""
   ]
  },
  {
   "cell_type": "code",
   "execution_count": 1,
   "id": "35844156",
   "metadata": {},
   "outputs": [],
   "source": [
    "!ls *.ipynb >>ALL-IPYNB.list"
   ]
  },
  {
   "cell_type": "code",
   "execution_count": 3,
   "id": "063717b3",
   "metadata": {},
   "outputs": [
    {
     "name": "stdout",
     "output_type": "stream",
     "text": [
      "2024_All_conversationjson_2_html.ipynb\r\n",
      "2024_All_conversationjson_2_html-new.ipynb\r\n",
      "Convert_json_to_Text.ipynb\r\n",
      "empty.ipynb\r\n",
      "Locate-and-Search-All-IPYNB.ipynb\r\n",
      "split_and_save_conversations_into_titles.ipynb\r\n"
     ]
    }
   ],
   "source": [
    "!cat ALL-IPYNB.list"
   ]
  },
  {
   "cell_type": "markdown",
   "id": "1a1443da",
   "metadata": {},
   "source": [
    "# Open the file \"ALL-IPYNB.list\" to view all the entries"
   ]
  },
  {
   "cell_type": "code",
   "execution_count": 4,
   "id": "6b3822e5",
   "metadata": {},
   "outputs": [
    {
     "name": "stdout",
     "output_type": "stream",
     "text": [
      "2024_All_conversationjson_2_html.ipynb\n",
      "2024_All_conversationjson_2_html-new.ipynb\n",
      "Convert_json_to_Text.ipynb\n",
      "empty.ipynb\n",
      "Locate-and-Search-All-IPYNB.ipynb\n",
      "split_and_save_conversations_into_titles.ipynb\n"
     ]
    }
   ],
   "source": [
    "files = open(\"ALL-IPYNB.list\").readlines()\n",
    "for file in files:\n",
    "    file = file.replace(\"\\n\",\"\")\n",
    "    print(file)\n",
    "    "
   ]
  },
  {
   "cell_type": "markdown",
   "id": "c97147fd",
   "metadata": {},
   "source": [
    "# Copy all the files in this directory"
   ]
  },
  {
   "cell_type": "raw",
   "id": "52665493",
   "metadata": {},
   "source": [
    "from pathlib import Path\n",
    "import shutil\n",
    "files = open(\"ALL-IPYNB.list\").readlines()\n",
    "for file in files:\n",
    "    file = file.replace(\"\\n\",\"\")\n",
    "    print(file)\n",
    "    #shutil.copy2(os.path.join(src,fname), trg)\n",
    "    shutil.copy2(file, \".\")\n",
    "    #shutil.copy2(os.path.join(src,fname), trg)"
   ]
  },
  {
   "cell_type": "markdown",
   "id": "3cfba52a",
   "metadata": {},
   "source": [
    "# Search the notebooks for a term in the title"
   ]
  },
  {
   "cell_type": "code",
   "execution_count": 8,
   "id": "12616fc3",
   "metadata": {},
   "outputs": [
    {
     "name": "stdout",
     "output_type": "stream",
     "text": [
      "Search for a term: Convert\n",
      "Convert_json_to_Text.ipynb\n"
     ]
    }
   ],
   "source": [
    "files = open(\"ALL-IPYNB.list\").readlines()\n",
    "SEARCH = input(\"Search for a term: \")\n",
    "for file in files:\n",
    "    file = file.replace(\"\\n\",\"\")\n",
    "    if SEARCH in file:\n",
    "        print(file)"
   ]
  },
  {
   "cell_type": "code",
   "execution_count": 6,
   "id": "3616a631",
   "metadata": {},
   "outputs": [
    {
     "name": "stdout",
     "output_type": "stream",
     "text": [
      "2024_All_conversationjson_2_html.ipynb\r\n",
      "2024_All_conversationjson_2_html-new.ipynb\r\n",
      "ALL-IPYNB.list\r\n",
      "chat_database.db\r\n",
      "CHATDPT\r\n",
      "Convert_json_to_Text.ipynb\r\n",
      "empty.ipynb\r\n",
      "Locate-and-Search-All-IPYNB.ipynb\r\n",
      "split_and_save_conversations_into_titles.ipynb\r\n"
     ]
    }
   ],
   "source": [
    "!ls"
   ]
  },
  {
   "cell_type": "code",
   "execution_count": 9,
   "id": "02544d0c",
   "metadata": {},
   "outputs": [],
   "source": [
    "import os\n",
    "filelist=[]\n",
    "files = os.listdir(\".\")\n",
    "for file in files:\n",
    "    filelist.append(file)\n"
   ]
  },
  {
   "cell_type": "code",
   "execution_count": 10,
   "id": "d4d21196",
   "metadata": {},
   "outputs": [
    {
     "name": "stdout",
     "output_type": "stream",
     "text": [
      "10\n"
     ]
    }
   ],
   "source": [
    "print(len(filelist))"
   ]
  },
  {
   "cell_type": "code",
   "execution_count": 11,
   "id": "3968dd15",
   "metadata": {},
   "outputs": [
    {
     "name": "stdout",
     "output_type": "stream",
     "text": [
      "Search for Term in a notebook:coversation\n"
     ]
    },
    {
     "ename": "IsADirectoryError",
     "evalue": "[Errno 21] Is a directory: 'CHATDPT'",
     "output_type": "error",
     "traceback": [
      "\u001b[0;31m---------------------------------------------------------------------------\u001b[0m",
      "\u001b[0;31mIsADirectoryError\u001b[0m                         Traceback (most recent call last)",
      "Cell \u001b[0;32mIn[11], line 5\u001b[0m\n\u001b[1;32m      3\u001b[0m \u001b[38;5;28;01mif\u001b[39;00m \u001b[38;5;124m\"\u001b[39m\u001b[38;5;124mcheckpoints\u001b[39m\u001b[38;5;124m\"\u001b[39m \u001b[38;5;129;01mnot\u001b[39;00m \u001b[38;5;129;01min\u001b[39;00m filename:\n\u001b[1;32m      4\u001b[0m     count\u001b[38;5;241m=\u001b[39m\u001b[38;5;241m0\u001b[39m\n\u001b[0;32m----> 5\u001b[0m     data \u001b[38;5;241m=\u001b[39m \u001b[38;5;28;43mopen\u001b[39;49m\u001b[43m(\u001b[49m\u001b[43mfilename\u001b[49m\u001b[43m)\u001b[49m\u001b[38;5;241m.\u001b[39mreadlines()\n\u001b[1;32m      6\u001b[0m     \u001b[38;5;28;01mfor\u001b[39;00m line \u001b[38;5;129;01min\u001b[39;00m data:\n\u001b[1;32m      7\u001b[0m         \u001b[38;5;28;01mif\u001b[39;00m SEARCH \u001b[38;5;129;01min\u001b[39;00m line:\n",
      "File \u001b[0;32m~/miniconda3/envs/cloned_base/lib/python3.9/site-packages/IPython/core/interactiveshell.py:282\u001b[0m, in \u001b[0;36m_modified_open\u001b[0;34m(file, *args, **kwargs)\u001b[0m\n\u001b[1;32m    275\u001b[0m \u001b[38;5;28;01mif\u001b[39;00m file \u001b[38;5;129;01min\u001b[39;00m {\u001b[38;5;241m0\u001b[39m, \u001b[38;5;241m1\u001b[39m, \u001b[38;5;241m2\u001b[39m}:\n\u001b[1;32m    276\u001b[0m     \u001b[38;5;28;01mraise\u001b[39;00m \u001b[38;5;167;01mValueError\u001b[39;00m(\n\u001b[1;32m    277\u001b[0m         \u001b[38;5;124mf\u001b[39m\u001b[38;5;124m\"\u001b[39m\u001b[38;5;124mIPython won\u001b[39m\u001b[38;5;124m'\u001b[39m\u001b[38;5;124mt let you open fd=\u001b[39m\u001b[38;5;132;01m{\u001b[39;00mfile\u001b[38;5;132;01m}\u001b[39;00m\u001b[38;5;124m by default \u001b[39m\u001b[38;5;124m\"\u001b[39m\n\u001b[1;32m    278\u001b[0m         \u001b[38;5;124m\"\u001b[39m\u001b[38;5;124mas it is likely to crash IPython. If you know what you are doing, \u001b[39m\u001b[38;5;124m\"\u001b[39m\n\u001b[1;32m    279\u001b[0m         \u001b[38;5;124m\"\u001b[39m\u001b[38;5;124myou can use builtins\u001b[39m\u001b[38;5;124m'\u001b[39m\u001b[38;5;124m open.\u001b[39m\u001b[38;5;124m\"\u001b[39m\n\u001b[1;32m    280\u001b[0m     )\n\u001b[0;32m--> 282\u001b[0m \u001b[38;5;28;01mreturn\u001b[39;00m \u001b[43mio_open\u001b[49m\u001b[43m(\u001b[49m\u001b[43mfile\u001b[49m\u001b[43m,\u001b[49m\u001b[43m \u001b[49m\u001b[38;5;241;43m*\u001b[39;49m\u001b[43margs\u001b[49m\u001b[43m,\u001b[49m\u001b[43m \u001b[49m\u001b[38;5;241;43m*\u001b[39;49m\u001b[38;5;241;43m*\u001b[39;49m\u001b[43mkwargs\u001b[49m\u001b[43m)\u001b[49m\n",
      "\u001b[0;31mIsADirectoryError\u001b[0m: [Errno 21] Is a directory: 'CHATDPT'"
     ]
    }
   ],
   "source": [
    "SEARCH =input(\"Search for Term in a notebook:\")\n",
    "for filename in filelist:\n",
    "    if \"checkpoints\" not in filename:\n",
    "        count=0\n",
    "        data = open('',filename).readlines()\n",
    "        for line in data:\n",
    "            if SEARCH in line:\n",
    "                count=count+1\n",
    "                print( count,filename)"
   ]
  },
  {
   "cell_type": "code",
   "execution_count": null,
   "id": "a81a50e9",
   "metadata": {},
   "outputs": [],
   "source": []
  }
 ],
 "metadata": {
  "kernelspec": {
   "display_name": "cloned-base",
   "language": "python",
   "name": "cloned-base"
  },
  "language_info": {
   "codemirror_mode": {
    "name": "ipython",
    "version": 3
   },
   "file_extension": ".py",
   "mimetype": "text/x-python",
   "name": "python",
   "nbconvert_exporter": "python",
   "pygments_lexer": "ipython3",
   "version": "3.9.12"
  }
 },
 "nbformat": 4,
 "nbformat_minor": 5
}
